{
  "nbformat": 4,
  "nbformat_minor": 0,
  "metadata": {
    "colab": {
      "provenance": []
    },
    "kernelspec": {
      "name": "python3",
      "display_name": "Python 3"
    },
    "language_info": {
      "name": "python"
    }
  },
  "cells": [
    {
      "cell_type": "code",
      "metadata": {
        "id": "nRSlxT4q5EHJ"
      },
      "source": [
        "import pandas as pd\n",
        "import numpy as np\n",
        "import matplotlib.pyplot as plt\n",
        "import tensorflow as tf\n",
        "import pickle"
      ],
      "execution_count": 36,
      "outputs": []
    },
    {
      "cell_type": "code",
      "execution_count": 37,
      "metadata": {
        "colab": {
          "base_uri": "https://localhost:8080/"
        },
        "id": "wY4Dm0qxzMGN",
        "outputId": "8b0d4614-024a-4366-ed5e-625add49c5dc"
      },
      "outputs": [
        {
          "output_type": "stream",
          "name": "stdout",
          "text": [
            "Drive already mounted at /content/drive; to attempt to forcibly remount, call drive.mount(\"/content/drive\", force_remount=True).\n"
          ]
        }
      ],
      "source": [
        "from google.colab import drive\n",
        "drive.mount('/content/drive')"
      ]
    },
    {
      "cell_type": "code",
      "metadata": {
        "id": "2fRF6mEW5QbK"
      },
      "source": [
        "df = pd.read_csv('/content/drive/MyDrive/monthly_kilometers_traveled.csv',index_col='Date',parse_dates=True)\n",
        "df.index.freq='MS'"
      ],
      "execution_count": 38,
      "outputs": []
    },
    {
      "cell_type": "code",
      "metadata": {
        "id": "agtLk7dO5SsM",
        "colab": {
          "base_uri": "https://localhost:8080/",
          "height": 237
        },
        "outputId": "f6ad53db-5123-4492-d56e-6644930f18a9"
      },
      "source": [
        "df.head()"
      ],
      "execution_count": 39,
      "outputs": [
        {
          "output_type": "execute_result",
          "data": {
            "text/plain": [
              "            Kilometers\n",
              "Date                  \n",
              "1962-01-01        58.9\n",
              "1962-02-01        56.1\n",
              "1962-03-01        64.0\n",
              "1962-04-01        65.6\n",
              "1962-05-01        72.7"
            ],
            "text/html": [
              "\n",
              "  <div id=\"df-8ad3f29c-a63f-4170-b1dc-ada66e711d71\" class=\"colab-df-container\">\n",
              "    <div>\n",
              "<style scoped>\n",
              "    .dataframe tbody tr th:only-of-type {\n",
              "        vertical-align: middle;\n",
              "    }\n",
              "\n",
              "    .dataframe tbody tr th {\n",
              "        vertical-align: top;\n",
              "    }\n",
              "\n",
              "    .dataframe thead th {\n",
              "        text-align: right;\n",
              "    }\n",
              "</style>\n",
              "<table border=\"1\" class=\"dataframe\">\n",
              "  <thead>\n",
              "    <tr style=\"text-align: right;\">\n",
              "      <th></th>\n",
              "      <th>Kilometers</th>\n",
              "    </tr>\n",
              "    <tr>\n",
              "      <th>Date</th>\n",
              "      <th></th>\n",
              "    </tr>\n",
              "  </thead>\n",
              "  <tbody>\n",
              "    <tr>\n",
              "      <th>1962-01-01</th>\n",
              "      <td>58.9</td>\n",
              "    </tr>\n",
              "    <tr>\n",
              "      <th>1962-02-01</th>\n",
              "      <td>56.1</td>\n",
              "    </tr>\n",
              "    <tr>\n",
              "      <th>1962-03-01</th>\n",
              "      <td>64.0</td>\n",
              "    </tr>\n",
              "    <tr>\n",
              "      <th>1962-04-01</th>\n",
              "      <td>65.6</td>\n",
              "    </tr>\n",
              "    <tr>\n",
              "      <th>1962-05-01</th>\n",
              "      <td>72.7</td>\n",
              "    </tr>\n",
              "  </tbody>\n",
              "</table>\n",
              "</div>\n",
              "    <div class=\"colab-df-buttons\">\n",
              "\n",
              "  <div class=\"colab-df-container\">\n",
              "    <button class=\"colab-df-convert\" onclick=\"convertToInteractive('df-8ad3f29c-a63f-4170-b1dc-ada66e711d71')\"\n",
              "            title=\"Convert this dataframe to an interactive table.\"\n",
              "            style=\"display:none;\">\n",
              "\n",
              "  <svg xmlns=\"http://www.w3.org/2000/svg\" height=\"24px\" viewBox=\"0 -960 960 960\">\n",
              "    <path d=\"M120-120v-720h720v720H120Zm60-500h600v-160H180v160Zm220 220h160v-160H400v160Zm0 220h160v-160H400v160ZM180-400h160v-160H180v160Zm440 0h160v-160H620v160ZM180-180h160v-160H180v160Zm440 0h160v-160H620v160Z\"/>\n",
              "  </svg>\n",
              "    </button>\n",
              "\n",
              "  <style>\n",
              "    .colab-df-container {\n",
              "      display:flex;\n",
              "      gap: 12px;\n",
              "    }\n",
              "\n",
              "    .colab-df-convert {\n",
              "      background-color: #E8F0FE;\n",
              "      border: none;\n",
              "      border-radius: 50%;\n",
              "      cursor: pointer;\n",
              "      display: none;\n",
              "      fill: #1967D2;\n",
              "      height: 32px;\n",
              "      padding: 0 0 0 0;\n",
              "      width: 32px;\n",
              "    }\n",
              "\n",
              "    .colab-df-convert:hover {\n",
              "      background-color: #E2EBFA;\n",
              "      box-shadow: 0px 1px 2px rgba(60, 64, 67, 0.3), 0px 1px 3px 1px rgba(60, 64, 67, 0.15);\n",
              "      fill: #174EA6;\n",
              "    }\n",
              "\n",
              "    .colab-df-buttons div {\n",
              "      margin-bottom: 4px;\n",
              "    }\n",
              "\n",
              "    [theme=dark] .colab-df-convert {\n",
              "      background-color: #3B4455;\n",
              "      fill: #D2E3FC;\n",
              "    }\n",
              "\n",
              "    [theme=dark] .colab-df-convert:hover {\n",
              "      background-color: #434B5C;\n",
              "      box-shadow: 0px 1px 3px 1px rgba(0, 0, 0, 0.15);\n",
              "      filter: drop-shadow(0px 1px 2px rgba(0, 0, 0, 0.3));\n",
              "      fill: #FFFFFF;\n",
              "    }\n",
              "  </style>\n",
              "\n",
              "    <script>\n",
              "      const buttonEl =\n",
              "        document.querySelector('#df-8ad3f29c-a63f-4170-b1dc-ada66e711d71 button.colab-df-convert');\n",
              "      buttonEl.style.display =\n",
              "        google.colab.kernel.accessAllowed ? 'block' : 'none';\n",
              "\n",
              "      async function convertToInteractive(key) {\n",
              "        const element = document.querySelector('#df-8ad3f29c-a63f-4170-b1dc-ada66e711d71');\n",
              "        const dataTable =\n",
              "          await google.colab.kernel.invokeFunction('convertToInteractive',\n",
              "                                                    [key], {});\n",
              "        if (!dataTable) return;\n",
              "\n",
              "        const docLinkHtml = 'Like what you see? Visit the ' +\n",
              "          '<a target=\"_blank\" href=https://colab.research.google.com/notebooks/data_table.ipynb>data table notebook</a>'\n",
              "          + ' to learn more about interactive tables.';\n",
              "        element.innerHTML = '';\n",
              "        dataTable['output_type'] = 'display_data';\n",
              "        await google.colab.output.renderOutput(dataTable, element);\n",
              "        const docLink = document.createElement('div');\n",
              "        docLink.innerHTML = docLinkHtml;\n",
              "        element.appendChild(docLink);\n",
              "      }\n",
              "    </script>\n",
              "  </div>\n",
              "\n",
              "\n",
              "<div id=\"df-f9fe3501-04eb-4abd-8293-12d3915ff1b6\">\n",
              "  <button class=\"colab-df-quickchart\" onclick=\"quickchart('df-f9fe3501-04eb-4abd-8293-12d3915ff1b6')\"\n",
              "            title=\"Suggest charts\"\n",
              "            style=\"display:none;\">\n",
              "\n",
              "<svg xmlns=\"http://www.w3.org/2000/svg\" height=\"24px\"viewBox=\"0 0 24 24\"\n",
              "     width=\"24px\">\n",
              "    <g>\n",
              "        <path d=\"M19 3H5c-1.1 0-2 .9-2 2v14c0 1.1.9 2 2 2h14c1.1 0 2-.9 2-2V5c0-1.1-.9-2-2-2zM9 17H7v-7h2v7zm4 0h-2V7h2v10zm4 0h-2v-4h2v4z\"/>\n",
              "    </g>\n",
              "</svg>\n",
              "  </button>\n",
              "\n",
              "<style>\n",
              "  .colab-df-quickchart {\n",
              "      --bg-color: #E8F0FE;\n",
              "      --fill-color: #1967D2;\n",
              "      --hover-bg-color: #E2EBFA;\n",
              "      --hover-fill-color: #174EA6;\n",
              "      --disabled-fill-color: #AAA;\n",
              "      --disabled-bg-color: #DDD;\n",
              "  }\n",
              "\n",
              "  [theme=dark] .colab-df-quickchart {\n",
              "      --bg-color: #3B4455;\n",
              "      --fill-color: #D2E3FC;\n",
              "      --hover-bg-color: #434B5C;\n",
              "      --hover-fill-color: #FFFFFF;\n",
              "      --disabled-bg-color: #3B4455;\n",
              "      --disabled-fill-color: #666;\n",
              "  }\n",
              "\n",
              "  .colab-df-quickchart {\n",
              "    background-color: var(--bg-color);\n",
              "    border: none;\n",
              "    border-radius: 50%;\n",
              "    cursor: pointer;\n",
              "    display: none;\n",
              "    fill: var(--fill-color);\n",
              "    height: 32px;\n",
              "    padding: 0;\n",
              "    width: 32px;\n",
              "  }\n",
              "\n",
              "  .colab-df-quickchart:hover {\n",
              "    background-color: var(--hover-bg-color);\n",
              "    box-shadow: 0 1px 2px rgba(60, 64, 67, 0.3), 0 1px 3px 1px rgba(60, 64, 67, 0.15);\n",
              "    fill: var(--button-hover-fill-color);\n",
              "  }\n",
              "\n",
              "  .colab-df-quickchart-complete:disabled,\n",
              "  .colab-df-quickchart-complete:disabled:hover {\n",
              "    background-color: var(--disabled-bg-color);\n",
              "    fill: var(--disabled-fill-color);\n",
              "    box-shadow: none;\n",
              "  }\n",
              "\n",
              "  .colab-df-spinner {\n",
              "    border: 2px solid var(--fill-color);\n",
              "    border-color: transparent;\n",
              "    border-bottom-color: var(--fill-color);\n",
              "    animation:\n",
              "      spin 1s steps(1) infinite;\n",
              "  }\n",
              "\n",
              "  @keyframes spin {\n",
              "    0% {\n",
              "      border-color: transparent;\n",
              "      border-bottom-color: var(--fill-color);\n",
              "      border-left-color: var(--fill-color);\n",
              "    }\n",
              "    20% {\n",
              "      border-color: transparent;\n",
              "      border-left-color: var(--fill-color);\n",
              "      border-top-color: var(--fill-color);\n",
              "    }\n",
              "    30% {\n",
              "      border-color: transparent;\n",
              "      border-left-color: var(--fill-color);\n",
              "      border-top-color: var(--fill-color);\n",
              "      border-right-color: var(--fill-color);\n",
              "    }\n",
              "    40% {\n",
              "      border-color: transparent;\n",
              "      border-right-color: var(--fill-color);\n",
              "      border-top-color: var(--fill-color);\n",
              "    }\n",
              "    60% {\n",
              "      border-color: transparent;\n",
              "      border-right-color: var(--fill-color);\n",
              "    }\n",
              "    80% {\n",
              "      border-color: transparent;\n",
              "      border-right-color: var(--fill-color);\n",
              "      border-bottom-color: var(--fill-color);\n",
              "    }\n",
              "    90% {\n",
              "      border-color: transparent;\n",
              "      border-bottom-color: var(--fill-color);\n",
              "    }\n",
              "  }\n",
              "</style>\n",
              "\n",
              "  <script>\n",
              "    async function quickchart(key) {\n",
              "      const quickchartButtonEl =\n",
              "        document.querySelector('#' + key + ' button');\n",
              "      quickchartButtonEl.disabled = true;  // To prevent multiple clicks.\n",
              "      quickchartButtonEl.classList.add('colab-df-spinner');\n",
              "      try {\n",
              "        const charts = await google.colab.kernel.invokeFunction(\n",
              "            'suggestCharts', [key], {});\n",
              "      } catch (error) {\n",
              "        console.error('Error during call to suggestCharts:', error);\n",
              "      }\n",
              "      quickchartButtonEl.classList.remove('colab-df-spinner');\n",
              "      quickchartButtonEl.classList.add('colab-df-quickchart-complete');\n",
              "    }\n",
              "    (() => {\n",
              "      let quickchartButtonEl =\n",
              "        document.querySelector('#df-f9fe3501-04eb-4abd-8293-12d3915ff1b6 button');\n",
              "      quickchartButtonEl.style.display =\n",
              "        google.colab.kernel.accessAllowed ? 'block' : 'none';\n",
              "    })();\n",
              "  </script>\n",
              "</div>\n",
              "    </div>\n",
              "  </div>\n"
            ]
          },
          "metadata": {},
          "execution_count": 39
        }
      ]
    },
    {
      "cell_type": "code",
      "metadata": {
        "colab": {
          "base_uri": "https://localhost:8080/",
          "height": 559
        },
        "id": "b1h7L_TG5tJK",
        "outputId": "c1929aa5-b634-442a-ebd8-30b84344c6f3"
      },
      "source": [
        "df.plot(figsize=(12,6))"
      ],
      "execution_count": 40,
      "outputs": [
        {
          "output_type": "execute_result",
          "data": {
            "text/plain": [
              "<Axes: xlabel='Date'>"
            ]
          },
          "metadata": {},
          "execution_count": 40
        },
        {
          "output_type": "display_data",
          "data": {
            "text/plain": [
              "<Figure size 1200x600 with 1 Axes>"
            ],
            "image/png": "[encoded data removed]"
          },
          "metadata": {}
        }
      ]
    },
    {
      "cell_type": "code",
      "metadata": {
        "colab": {
          "base_uri": "https://localhost:8080/"
        },
        "id": "IzkqCHh_6lfn",
        "outputId": "fd450863-11e2-48d8-c3ed-b61af7a92956"
      },
      "source": [
        "len(df)"
      ],
      "execution_count": 43,
      "outputs": [
        {
          "output_type": "execute_result",
          "data": {
            "text/plain": [
              "168"
            ]
          },
          "metadata": {},
          "execution_count": 43
        }
      ]
    },
    {
      "cell_type": "code",
      "metadata": {
        "id": "1NoWcZEK6rPb"
      },
      "source": [
        "train = df.iloc[:156]\n",
        "test = df.iloc[156:]"
      ],
      "execution_count": 44,
      "outputs": []
    },
    {
      "cell_type": "code",
      "metadata": {
        "id": "dtAgIrE66u6x"
      },
      "source": [
        "from sklearn.preprocessing import MinMaxScaler\n",
        "scaler = MinMaxScaler()"
      ],
      "execution_count": 45,
      "outputs": []
    },
    {
      "cell_type": "code",
      "metadata": {
        "colab": {
          "base_uri": "https://localhost:8080/"
        },
        "id": "UDQODrt4D5NK",
        "outputId": "7f4b4992-3d95-44fd-c27a-fbf766988189"
      },
      "source": [
        "df.head(),df.tail()"
      ],
      "execution_count": 46,
      "outputs": [
        {
          "output_type": "execute_result",
          "data": {
            "text/plain": [
              "(            Kilometers\n",
              " Date                  \n",
              " 1962-01-01        58.9\n",
              " 1962-02-01        56.1\n",
              " 1962-03-01        64.0\n",
              " 1962-04-01        65.6\n",
              " 1962-05-01        72.7,\n",
              "             Kilometers\n",
              " Date                  \n",
              " 1975-08-01        85.8\n",
              " 1975-09-01        81.7\n",
              " 1975-10-01        82.7\n",
              " 1975-11-01        79.7\n",
              " 1975-12-01        84.3)"
            ]
          },
          "metadata": {},
          "execution_count": 46
        }
      ]
    },
    {
      "cell_type": "code",
      "metadata": {
        "id": "ijgmVYgC6zBz"
      },
      "source": [
        "scaler.fit(train)\n",
        "scaled_train = scaler.transform(train)\n",
        "scaled_test = scaler.transform(test)"
      ],
      "execution_count": 47,
      "outputs": []
    },
    {
      "cell_type": "code",
      "metadata": {
        "colab": {
          "base_uri": "https://localhost:8080/"
        },
        "id": "BrdKbJ3g6-Et",
        "outputId": "819165c1-3131-4170-eb44-8d48da00beb5"
      },
      "source": [
        "scaled_train[:10]"
      ],
      "execution_count": 48,
      "outputs": [
        {
          "output_type": "execute_result",
          "data": {
            "text/plain": [
              "array([[0.08653846],\n",
              "       [0.01923077],\n",
              "       [0.20913462],\n",
              "       [0.24759615],\n",
              "       [0.41826923],\n",
              "       [0.34615385],\n",
              "       [0.20913462],\n",
              "       [0.11057692],\n",
              "       [0.03605769],\n",
              "       [0.05769231]])"
            ]
          },
          "metadata": {},
          "execution_count": 48
        }
      ]
    },
    {
      "cell_type": "code",
      "metadata": {
        "id": "0xryZ7rR62y5"
      },
      "source": [
        "from keras.preprocessing.sequence import TimeseriesGenerator"
      ],
      "execution_count": 49,
      "outputs": []
    },
    {
      "cell_type": "code",
      "metadata": {
        "id": "CqyTKCVt69Z9"
      },
      "source": [
        "#Se define el generador\n",
        "n_input = 3\n",
        "n_features = 1\n",
        "generator = TimeseriesGenerator(scaled_train, scaled_train, length=n_input, batch_size=1)"
      ],
      "execution_count": 50,
      "outputs": []
    },
    {
      "cell_type": "code",
      "metadata": {
        "colab": {
          "base_uri": "https://localhost:8080/"
        },
        "id": "ip6y5Ene7OM7",
        "outputId": "5db0c399-1869-45b2-d12a-a619fb731901"
      },
      "source": [
        "X,y = generator[0]\n",
        "print(f'Given the Array: \\n{X.flatten()}')\n",
        "print(f'Predict this y: \\n {y}')"
      ],
      "execution_count": 51,
      "outputs": [
        {
          "output_type": "stream",
          "name": "stdout",
          "text": [
            "Given the Array: \n",
            "[0.08653846 0.01923077 0.20913462]\n",
            "Predict this y: \n",
            " [[0.24759615]]\n"
          ]
        }
      ]
    },
    {
      "cell_type": "code",
      "metadata": {
        "colab": {
          "base_uri": "https://localhost:8080/"
        },
        "id": "bQyGmvsi8HyR",
        "outputId": "4cf1b3cb-e440-46b8-95ee-36062d6e040a"
      },
      "source": [
        "X.shape"
      ],
      "execution_count": 52,
      "outputs": [
        {
          "output_type": "execute_result",
          "data": {
            "text/plain": [
              "(1, 3, 1)"
            ]
          },
          "metadata": {},
          "execution_count": 52
        }
      ]
    },
    {
      "cell_type": "code",
      "metadata": {
        "id": "jm-T4H4I7UaV"
      },
      "source": [
        "n_input = 12\n",
        "generator = TimeseriesGenerator(scaled_train, scaled_train, length=n_input, batch_size=1)"
      ],
      "execution_count": 53,
      "outputs": []
    },
    {
      "cell_type": "code",
      "metadata": {
        "id": "bzIs_l_k7Zqg"
      },
      "source": [
        "from keras.models import Sequential\n",
        "from keras.layers import Dense\n",
        "from keras.layers import LSTM"
      ],
      "execution_count": 54,
      "outputs": []
    },
    {
      "cell_type": "code",
      "metadata": {
        "id": "eJa-wFQf7jw6"
      },
      "source": [
        "# define model\n",
        "model = Sequential()\n",
        "model.add(LSTM(100, activation='relu', input_shape=(n_input, n_features)))\n",
        "model.add(Dense(1))\n",
        "model.compile(optimizer='adam', loss='mse')"
      ],
      "execution_count": 55,
      "outputs": []
    },
    {
      "cell_type": "code",
      "metadata": {
        "colab": {
          "base_uri": "https://localhost:8080/"
        },
        "id": "7i4ucUNv7lbk",
        "outputId": "3a028f27-aadc-4c19-c157-ca7cda98a0b5"
      },
      "source": [
        "model.summary()"
      ],
      "execution_count": 56,
      "outputs": [
        {
          "output_type": "stream",
          "name": "stdout",
          "text": [
            "Model: \"sequential_1\"\n",
            "_________________________________________________________________\n",
            " Layer (type)                Output Shape              Param #   \n",
            "=================================================================\n",
            " lstm_1 (LSTM)               (None, 100)               40800     \n",
            "                                                                 \n",
            " dense_1 (Dense)             (None, 1)                 101       \n",
            "                                                                 \n",
            "=================================================================\n",
            "Total params: 40901 (159.77 KB)\n",
            "Trainable params: 40901 (159.77 KB)\n",
            "Non-trainable params: 0 (0.00 Byte)\n",
            "_________________________________________________________________\n"
          ]
        }
      ]
    },
    {
      "cell_type": "code",
      "source": [
        "tf.keras.utils.plot_model(model, show_shapes=True)"
      ],
      "metadata": {
        "colab": {
          "base_uri": "https://localhost:8080/",
          "height": 312
        },
        "id": "iJ2FtY8JlAf4",
        "outputId": "268251b1-739b-404d-c658-75469446f1d1"
      },
      "execution_count": 57,
      "outputs": [
        {
          "output_type": "execute_result",
          "data": {
            "image/png": "[encoded data removed]",
            "text/plain": [
              "<IPython.core.display.Image object>"
            ]
          },
          "metadata": {},
          "execution_count": 57
        }
      ]
    },
    {
      "cell_type": "code",
      "metadata": {
        "colab": {
          "base_uri": "https://localhost:8080/"
        },
        "id": "p8yqUZaz7nwp",
        "outputId": "18b1f904-2869-4e3d-dbab-99c85e04f16b"
      },
      "source": [
        "model.fit(generator,epochs=50)\n",
        "# Guardando el modelo de la RNN (LSTM)\n",
        "with open('modelLSTM1.pkl', 'wb') as modelSaved:\n",
        "  pickle.dump(results, modelSaved)"
      ],
      "execution_count": 58,
      "outputs": [
        {
          "output_type": "stream",
          "name": "stdout",
          "text": [
            "Epoch 1/50\n",
            "144/144 [==============================] - 3s 10ms/step - loss: 0.0429\n",
            "Epoch 2/50\n",
            "144/144 [==============================] - 2s 12ms/step - loss: 0.0170\n",
            "Epoch 3/50\n",
            "144/144 [==============================] - 3s 17ms/step - loss: 0.0125\n",
            "Epoch 4/50\n",
            "144/144 [==============================] - 2s 17ms/step - loss: 0.0169\n",
            "Epoch 5/50\n",
            "144/144 [==============================] - 1s 10ms/step - loss: 0.0078\n",
            "Epoch 6/50\n",
            "144/144 [==============================] - 1s 10ms/step - loss: 0.0055\n",
            "Epoch 7/50\n",
            "144/144 [==============================] - 1s 10ms/step - loss: 0.0053\n",
            "Epoch 8/50\n",
            "144/144 [==============================] - 1s 10ms/step - loss: 0.0045\n",
            "Epoch 9/50\n",
            "144/144 [==============================] - 2s 11ms/step - loss: 0.0040\n",
            "Epoch 10/50\n",
            "144/144 [==============================] - 3s 17ms/step - loss: 0.0067\n",
            "Epoch 11/50\n",
            "144/144 [==============================] - 2s 17ms/step - loss: 0.0036\n",
            "Epoch 12/50\n",
            "144/144 [==============================] - 2s 15ms/step - loss: 0.0036\n",
            "Epoch 13/50\n",
            "144/144 [==============================] - 1s 10ms/step - loss: 0.0048\n",
            "Epoch 14/50\n",
            "144/144 [==============================] - 1s 10ms/step - loss: 0.0041\n",
            "Epoch 15/50\n",
            "144/144 [==============================] - 1s 10ms/step - loss: 0.0033\n",
            "Epoch 16/50\n",
            "144/144 [==============================] - 2s 11ms/step - loss: 0.0049\n",
            "Epoch 17/50\n",
            "144/144 [==============================] - 3s 18ms/step - loss: 0.0033\n",
            "Epoch 18/50\n",
            "144/144 [==============================] - 1s 10ms/step - loss: 0.0051\n",
            "Epoch 19/50\n",
            "144/144 [==============================] - 2s 10ms/step - loss: 0.0028\n",
            "Epoch 20/50\n",
            "144/144 [==============================] - 1s 10ms/step - loss: 0.0030\n",
            "Epoch 21/50\n",
            "144/144 [==============================] - 1s 10ms/step - loss: 0.0034\n",
            "Epoch 22/50\n",
            "144/144 [==============================] - 1s 10ms/step - loss: 0.0046\n",
            "Epoch 23/50\n",
            "144/144 [==============================] - 2s 16ms/step - loss: 0.0043\n",
            "Epoch 24/50\n",
            "144/144 [==============================] - 2s 16ms/step - loss: 0.0036\n",
            "Epoch 25/50\n",
            "144/144 [==============================] - 2s 17ms/step - loss: 0.0040\n",
            "Epoch 26/50\n",
            "144/144 [==============================] - 1s 9ms/step - loss: 0.0031\n",
            "Epoch 27/50\n",
            "144/144 [==============================] - 1s 9ms/step - loss: 0.0024\n",
            "Epoch 28/50\n",
            "144/144 [==============================] - 1s 9ms/step - loss: 0.0038\n",
            "Epoch 29/50\n",
            "144/144 [==============================] - 1s 10ms/step - loss: 0.0027\n",
            "Epoch 30/50\n",
            "144/144 [==============================] - 2s 13ms/step - loss: 0.0023\n",
            "Epoch 31/50\n",
            "144/144 [==============================] - 3s 17ms/step - loss: 0.0033\n",
            "Epoch 32/50\n",
            "144/144 [==============================] - 2s 17ms/step - loss: 0.0043\n",
            "Epoch 33/50\n",
            "144/144 [==============================] - 2s 11ms/step - loss: 0.0033\n",
            "Epoch 34/50\n",
            "144/144 [==============================] - 1s 9ms/step - loss: 0.0026\n",
            "Epoch 35/50\n",
            "144/144 [==============================] - 1s 9ms/step - loss: 0.0025\n",
            "Epoch 36/50\n",
            "144/144 [==============================] - 1s 9ms/step - loss: 0.0028\n",
            "Epoch 37/50\n",
            "144/144 [==============================] - 1s 9ms/step - loss: 0.0029\n",
            "Epoch 38/50\n",
            "144/144 [==============================] - 3s 17ms/step - loss: 0.0021\n",
            "Epoch 39/50\n",
            "144/144 [==============================] - 2s 17ms/step - loss: 0.0026\n",
            "Epoch 40/50\n",
            "144/144 [==============================] - 2s 16ms/step - loss: 0.0025\n",
            "Epoch 41/50\n",
            "144/144 [==============================] - 1s 10ms/step - loss: 0.0021\n",
            "Epoch 42/50\n",
            "144/144 [==============================] - 1s 10ms/step - loss: 0.0023\n",
            "Epoch 43/50\n",
            "144/144 [==============================] - 1s 10ms/step - loss: 0.0021\n",
            "Epoch 44/50\n",
            "144/144 [==============================] - 1s 10ms/step - loss: 0.0020\n",
            "Epoch 45/50\n",
            "144/144 [==============================] - 1s 10ms/step - loss: 0.0023\n",
            "Epoch 46/50\n",
            "144/144 [==============================] - 2s 15ms/step - loss: 0.0024\n",
            "Epoch 47/50\n",
            "144/144 [==============================] - 2s 17ms/step - loss: 0.0020\n",
            "Epoch 48/50\n",
            "144/144 [==============================] - 2s 17ms/step - loss: 0.0018\n",
            "Epoch 49/50\n",
            "144/144 [==============================] - 2s 10ms/step - loss: 0.0021\n",
            "Epoch 50/50\n",
            "144/144 [==============================] - 1s 9ms/step - loss: 0.0020\n"
          ]
        }
      ]
    },
    {
      "cell_type": "code",
      "metadata": {
        "colab": {
          "base_uri": "https://localhost:8080/",
          "height": 447
        },
        "id": "OjDsOKR67rs8",
        "outputId": "26f4f870-807d-4c2f-b29a-093d439450e2"
      },
      "source": [
        "loss_per_epoch = model.history.history['loss']\n",
        "plt.plot(range(len(loss_per_epoch)),loss_per_epoch)"
      ],
      "execution_count": 59,
      "outputs": [
        {
          "output_type": "execute_result",
          "data": {
            "text/plain": [
              "[<matplotlib.lines.Line2D at 0x79604df7fa60>]"
            ]
          },
          "metadata": {},
          "execution_count": 59
        },
        {
          "output_type": "display_data",
          "data": {
            "text/plain": [
              "<Figure size 640x480 with 1 Axes>"
            ],
            "image/png": "[encoded data removed]"
          },
          "metadata": {}
        }
      ]
    },
    {
      "cell_type": "code",
      "metadata": {
        "id": "h6h-fell70_S"
      },
      "source": [
        "last_train_batch = scaled_train[-12:]"
      ],
      "execution_count": 60,
      "outputs": []
    },
    {
      "cell_type": "code",
      "metadata": {
        "id": "cwwv8O-p79bN",
        "colab": {
          "base_uri": "https://localhost:8080/"
        },
        "outputId": "7b2af85d-e388-401e-81cb-3afc0b0dc46e"
      },
      "source": [
        "last_train_batch = last_train_batch.reshape((1, n_input, n_features))\n",
        "last_train_batch.shape"
      ],
      "execution_count": 61,
      "outputs": [
        {
          "output_type": "execute_result",
          "data": {
            "text/plain": [
              "(1, 12, 1)"
            ]
          },
          "metadata": {},
          "execution_count": 61
        }
      ]
    },
    {
      "cell_type": "code",
      "metadata": {
        "colab": {
          "base_uri": "https://localhost:8080/"
        },
        "id": "v-4WD4t78MpJ",
        "outputId": "113913a6-9675-446e-cd45-c10d587d4009"
      },
      "source": [
        "model.predict(last_train_batch)"
      ],
      "execution_count": 62,
      "outputs": [
        {
          "output_type": "stream",
          "name": "stdout",
          "text": [
            "1/1 [==============================] - 0s 167ms/step\n"
          ]
        },
        {
          "output_type": "execute_result",
          "data": {
            "text/plain": [
              "array([[0.6348962]], dtype=float32)"
            ]
          },
          "metadata": {},
          "execution_count": 62
        }
      ]
    },
    {
      "cell_type": "code",
      "metadata": {
        "colab": {
          "base_uri": "https://localhost:8080/"
        },
        "id": "ZbojFADE8StA",
        "outputId": "a8a57312-cc77-41b8-b51e-29fc60ded207"
      },
      "source": [
        "scaled_test[0]"
      ],
      "execution_count": 63,
      "outputs": [
        {
          "output_type": "execute_result",
          "data": {
            "text/plain": [
              "array([0.67548077])"
            ]
          },
          "metadata": {},
          "execution_count": 63
        }
      ]
    },
    {
      "cell_type": "code",
      "metadata": {
        "id": "_MP-5Wez8jbY",
        "colab": {
          "base_uri": "https://localhost:8080/"
        },
        "outputId": "0cbc7d10-03d6-45f3-b28a-d2117aa5fe01"
      },
      "source": [
        "test_predictions = []\n",
        "\n",
        "first_eval_batch = scaled_train[-n_input:]\n",
        "current_batch = first_eval_batch.reshape((1, n_input, n_features))\n",
        "\n",
        "for i in range(len(test)):\n",
        "\n",
        "    # Se obtiene el valor de predicción para el primer batch\n",
        "    current_pred = model.predict(current_batch)[0]\n",
        "\n",
        "    # Se adjunta al array\n",
        "    test_predictions.append(current_pred)\n",
        "\n",
        "    # Se usa el valor de la predicción para actualizar el batch\n",
        "    current_batch = np.append(current_batch[:,1:,:],[[current_pred]],axis=1)"
      ],
      "execution_count": 64,
      "outputs": [
        {
          "output_type": "stream",
          "name": "stdout",
          "text": [
            "1/1 [==============================] - 0s 22ms/step\n",
            "1/1 [==============================] - 0s 21ms/step\n",
            "1/1 [==============================] - 0s 21ms/step\n",
            "1/1 [==============================] - 0s 27ms/step\n",
            "1/1 [==============================] - 0s 24ms/step\n",
            "1/1 [==============================] - 0s 24ms/step\n",
            "1/1 [==============================] - 0s 26ms/step\n",
            "1/1 [==============================] - 0s 24ms/step\n",
            "1/1 [==============================] - 0s 26ms/step\n",
            "1/1 [==============================] - 0s 24ms/step\n",
            "1/1 [==============================] - 0s 28ms/step\n",
            "1/1 [==============================] - 0s 25ms/step\n"
          ]
        }
      ]
    },
    {
      "cell_type": "code",
      "metadata": {
        "colab": {
          "base_uri": "https://localhost:8080/"
        },
        "id": "_mhvFuEy8sB7",
        "outputId": "ac294b24-8fa9-456a-cbe4-0b10e4f0bd22"
      },
      "source": [
        "test_predictions"
      ],
      "execution_count": 65,
      "outputs": [
        {
          "output_type": "execute_result",
          "data": {
            "text/plain": [
              "[array([0.6348962], dtype=float32),\n",
              " array([0.59166884], dtype=float32),\n",
              " array([0.7799658], dtype=float32),\n",
              " array([0.83544457], dtype=float32),\n",
              " array([0.9310979], dtype=float32),\n",
              " array([0.90651727], dtype=float32),\n",
              " array([0.82990193], dtype=float32),\n",
              " array([0.74504703], dtype=float32),\n",
              " array([0.63846886], dtype=float32),\n",
              " array([0.6076023], dtype=float32),\n",
              " array([0.55144393], dtype=float32),\n",
              " array([0.58802724], dtype=float32)]"
            ]
          },
          "metadata": {},
          "execution_count": 65
        }
      ]
    },
    {
      "cell_type": "code",
      "metadata": {
        "colab": {
          "base_uri": "https://localhost:8080/",
          "height": 237
        },
        "id": "YYSqV10E9hlO",
        "outputId": "48b70c5c-59cc-48b0-8df4-c1976de89a46"
      },
      "source": [
        "test.head()"
      ],
      "execution_count": 66,
      "outputs": [
        {
          "output_type": "execute_result",
          "data": {
            "text/plain": [
              "            Kilometers\n",
              "Date                  \n",
              "1975-01-01        83.4\n",
              "1975-02-01        78.2\n",
              "1975-03-01        89.2\n",
              "1975-04-01        90.3\n",
              "1975-05-01        96.6"
            ],
            "text/html": [
              "\n",
              "  <div id=\"df-34509871-70d7-4ce9-a076-c005b1e89b86\" class=\"colab-df-container\">\n",
              "    <div>\n",
              "<style scoped>\n",
              "    .dataframe tbody tr th:only-of-type {\n",
              "        vertical-align: middle;\n",
              "    }\n",
              "\n",
              "    .dataframe tbody tr th {\n",
              "        vertical-align: top;\n",
              "    }\n",
              "\n",
              "    .dataframe thead th {\n",
              "        text-align: right;\n",
              "    }\n",
              "</style>\n",
              "<table border=\"1\" class=\"dataframe\">\n",
              "  <thead>\n",
              "    <tr style=\"text-align: right;\">\n",
              "      <th></th>\n",
              "      <th>Kilometers</th>\n",
              "    </tr>\n",
              "    <tr>\n",
              "      <th>Date</th>\n",
              "      <th></th>\n",
              "    </tr>\n",
              "  </thead>\n",
              "  <tbody>\n",
              "    <tr>\n",
              "      <th>1975-01-01</th>\n",
              "      <td>83.4</td>\n",
              "    </tr>\n",
              "    <tr>\n",
              "      <th>1975-02-01</th>\n",
              "      <td>78.2</td>\n",
              "    </tr>\n",
              "    <tr>\n",
              "      <th>1975-03-01</th>\n",
              "      <td>89.2</td>\n",
              "    </tr>\n",
              "    <tr>\n",
              "      <th>1975-04-01</th>\n",
              "      <td>90.3</td>\n",
              "    </tr>\n",
              "    <tr>\n",
              "      <th>1975-05-01</th>\n",
              "      <td>96.6</td>\n",
              "    </tr>\n",
              "  </tbody>\n",
              "</table>\n",
              "</div>\n",
              "    <div class=\"colab-df-buttons\">\n",
              "\n",
              "  <div class=\"colab-df-container\">\n",
              "    <button class=\"colab-df-convert\" onclick=\"convertToInteractive('df-34509871-70d7-4ce9-a076-c005b1e89b86')\"\n",
              "            title=\"Convert this dataframe to an interactive table.\"\n",
              "            style=\"display:none;\">\n",
              "\n",
              "  <svg xmlns=\"http://www.w3.org/2000/svg\" height=\"24px\" viewBox=\"0 -960 960 960\">\n",
              "    <path d=\"M120-120v-720h720v720H120Zm60-500h600v-160H180v160Zm220 220h160v-160H400v160Zm0 220h160v-160H400v160ZM180-400h160v-160H180v160Zm440 0h160v-160H620v160ZM180-180h160v-160H180v160Zm440 0h160v-160H620v160Z\"/>\n",
              "  </svg>\n",
              "    </button>\n",
              "\n",
              "  <style>\n",
              "    .colab-df-container {\n",
              "      display:flex;\n",
              "      gap: 12px;\n",
              "    }\n",
              "\n",
              "    .colab-df-convert {\n",
              "      background-color: #E8F0FE;\n",
              "      border: none;\n",
              "      border-radius: 50%;\n",
              "      cursor: pointer;\n",
              "      display: none;\n",
              "      fill: #1967D2;\n",
              "      height: 32px;\n",
              "      padding: 0 0 0 0;\n",
              "      width: 32px;\n",
              "    }\n",
              "\n",
              "    .colab-df-convert:hover {\n",
              "      background-color: #E2EBFA;\n",
              "      box-shadow: 0px 1px 2px rgba(60, 64, 67, 0.3), 0px 1px 3px 1px rgba(60, 64, 67, 0.15);\n",
              "      fill: #174EA6;\n",
              "    }\n",
              "\n",
              "    .colab-df-buttons div {\n",
              "      margin-bottom: 4px;\n",
              "    }\n",
              "\n",
              "    [theme=dark] .colab-df-convert {\n",
              "      background-color: #3B4455;\n",
              "      fill: #D2E3FC;\n",
              "    }\n",
              "\n",
              "    [theme=dark] .colab-df-convert:hover {\n",
              "      background-color: #434B5C;\n",
              "      box-shadow: 0px 1px 3px 1px rgba(0, 0, 0, 0.15);\n",
              "      filter: drop-shadow(0px 1px 2px rgba(0, 0, 0, 0.3));\n",
              "      fill: #FFFFFF;\n",
              "    }\n",
              "  </style>\n",
              "\n",
              "    <script>\n",
              "      const buttonEl =\n",
              "        document.querySelector('#df-34509871-70d7-4ce9-a076-c005b1e89b86 button.colab-df-convert');\n",
              "      buttonEl.style.display =\n",
              "        google.colab.kernel.accessAllowed ? 'block' : 'none';\n",
              "\n",
              "      async function convertToInteractive(key) {\n",
              "        const element = document.querySelector('#df-34509871-70d7-4ce9-a076-c005b1e89b86');\n",
              "        const dataTable =\n",
              "          await google.colab.kernel.invokeFunction('convertToInteractive',\n",
              "                                                    [key], {});\n",
              "        if (!dataTable) return;\n",
              "\n",
              "        const docLinkHtml = 'Like what you see? Visit the ' +\n",
              "          '<a target=\"_blank\" href=https://colab.research.google.com/notebooks/data_table.ipynb>data table notebook</a>'\n",
              "          + ' to learn more about interactive tables.';\n",
              "        element.innerHTML = '';\n",
              "        dataTable['output_type'] = 'display_data';\n",
              "        await google.colab.output.renderOutput(dataTable, element);\n",
              "        const docLink = document.createElement('div');\n",
              "        docLink.innerHTML = docLinkHtml;\n",
              "        element.appendChild(docLink);\n",
              "      }\n",
              "    </script>\n",
              "  </div>\n",
              "\n",
              "\n",
              "<div id=\"df-473a0660-d2a0-4196-9c8c-427857ebbcac\">\n",
              "  <button class=\"colab-df-quickchart\" onclick=\"quickchart('df-473a0660-d2a0-4196-9c8c-427857ebbcac')\"\n",
              "            title=\"Suggest charts\"\n",
              "            style=\"display:none;\">\n",
              "\n",
              "<svg xmlns=\"http://www.w3.org/2000/svg\" height=\"24px\"viewBox=\"0 0 24 24\"\n",
              "     width=\"24px\">\n",
              "    <g>\n",
              "        <path d=\"M19 3H5c-1.1 0-2 .9-2 2v14c0 1.1.9 2 2 2h14c1.1 0 2-.9 2-2V5c0-1.1-.9-2-2-2zM9 17H7v-7h2v7zm4 0h-2V7h2v10zm4 0h-2v-4h2v4z\"/>\n",
              "    </g>\n",
              "</svg>\n",
              "  </button>\n",
              "\n",
              "<style>\n",
              "  .colab-df-quickchart {\n",
              "      --bg-color: #E8F0FE;\n",
              "      --fill-color: #1967D2;\n",
              "      --hover-bg-color: #E2EBFA;\n",
              "      --hover-fill-color: #174EA6;\n",
              "      --disabled-fill-color: #AAA;\n",
              "      --disabled-bg-color: #DDD;\n",
              "  }\n",
              "\n",
              "  [theme=dark] .colab-df-quickchart {\n",
              "      --bg-color: #3B4455;\n",
              "      --fill-color: #D2E3FC;\n",
              "      --hover-bg-color: #434B5C;\n",
              "      --hover-fill-color: #FFFFFF;\n",
              "      --disabled-bg-color: #3B4455;\n",
              "      --disabled-fill-color: #666;\n",
              "  }\n",
              "\n",
              "  .colab-df-quickchart {\n",
              "    background-color: var(--bg-color);\n",
              "    border: none;\n",
              "    border-radius: 50%;\n",
              "    cursor: pointer;\n",
              "    display: none;\n",
              "    fill: var(--fill-color);\n",
              "    height: 32px;\n",
              "    padding: 0;\n",
              "    width: 32px;\n",
              "  }\n",
              "\n",
              "  .colab-df-quickchart:hover {\n",
              "    background-color: var(--hover-bg-color);\n",
              "    box-shadow: 0 1px 2px rgba(60, 64, 67, 0.3), 0 1px 3px 1px rgba(60, 64, 67, 0.15);\n",
              "    fill: var(--button-hover-fill-color);\n",
              "  }\n",
              "\n",
              "  .colab-df-quickchart-complete:disabled,\n",
              "  .colab-df-quickchart-complete:disabled:hover {\n",
              "    background-color: var(--disabled-bg-color);\n",
              "    fill: var(--disabled-fill-color);\n",
              "    box-shadow: none;\n",
              "  }\n",
              "\n",
              "  .colab-df-spinner {\n",
              "    border: 2px solid var(--fill-color);\n",
              "    border-color: transparent;\n",
              "    border-bottom-color: var(--fill-color);\n",
              "    animation:\n",
              "      spin 1s steps(1) infinite;\n",
              "  }\n",
              "\n",
              "  @keyframes spin {\n",
              "    0% {\n",
              "      border-color: transparent;\n",
              "      border-bottom-color: var(--fill-color);\n",
              "      border-left-color: var(--fill-color);\n",
              "    }\n",
              "    20% {\n",
              "      border-color: transparent;\n",
              "      border-left-color: var(--fill-color);\n",
              "      border-top-color: var(--fill-color);\n",
              "    }\n",
              "    30% {\n",
              "      border-color: transparent;\n",
              "      border-left-color: var(--fill-color);\n",
              "      border-top-color: var(--fill-color);\n",
              "      border-right-color: var(--fill-color);\n",
              "    }\n",
              "    40% {\n",
              "      border-color: transparent;\n",
              "      border-right-color: var(--fill-color);\n",
              "      border-top-color: var(--fill-color);\n",
              "    }\n",
              "    60% {\n",
              "      border-color: transparent;\n",
              "      border-right-color: var(--fill-color);\n",
              "    }\n",
              "    80% {\n",
              "      border-color: transparent;\n",
              "      border-right-color: var(--fill-color);\n",
              "      border-bottom-color: var(--fill-color);\n",
              "    }\n",
              "    90% {\n",
              "      border-color: transparent;\n",
              "      border-bottom-color: var(--fill-color);\n",
              "    }\n",
              "  }\n",
              "</style>\n",
              "\n",
              "  <script>\n",
              "    async function quickchart(key) {\n",
              "      const quickchartButtonEl =\n",
              "        document.querySelector('#' + key + ' button');\n",
              "      quickchartButtonEl.disabled = true;  // To prevent multiple clicks.\n",
              "      quickchartButtonEl.classList.add('colab-df-spinner');\n",
              "      try {\n",
              "        const charts = await google.colab.kernel.invokeFunction(\n",
              "            'suggestCharts', [key], {});\n",
              "      } catch (error) {\n",
              "        console.error('Error during call to suggestCharts:', error);\n",
              "      }\n",
              "      quickchartButtonEl.classList.remove('colab-df-spinner');\n",
              "      quickchartButtonEl.classList.add('colab-df-quickchart-complete');\n",
              "    }\n",
              "    (() => {\n",
              "      let quickchartButtonEl =\n",
              "        document.querySelector('#df-473a0660-d2a0-4196-9c8c-427857ebbcac button');\n",
              "      quickchartButtonEl.style.display =\n",
              "        google.colab.kernel.accessAllowed ? 'block' : 'none';\n",
              "    })();\n",
              "  </script>\n",
              "</div>\n",
              "    </div>\n",
              "  </div>\n"
            ]
          },
          "metadata": {},
          "execution_count": 66
        }
      ]
    },
    {
      "cell_type": "code",
      "metadata": {
        "id": "BHHzjNDK9EJZ"
      },
      "source": [
        "true_predictions = scaler.inverse_transform(test_predictions)"
      ],
      "execution_count": 67,
      "outputs": []
    },
    {
      "cell_type": "code",
      "metadata": {
        "id": "0dsN45zf9I9u",
        "colab": {
          "base_uri": "https://localhost:8080/"
        },
        "outputId": "3463092e-343d-4f47-c6ef-34412fd2c920"
      },
      "source": [
        "test['Predictions'] = true_predictions"
      ],
      "execution_count": 68,
      "outputs": [
        {
          "output_type": "stream",
          "name": "stderr",
          "text": [
            "<ipython-input-68-920b79c3c314>:1: SettingWithCopyWarning: \n",
            "A value is trying to be set on a copy of a slice from a DataFrame.\n",
            "Try using .loc[row_indexer,col_indexer] = value instead\n",
            "\n",
            "See the caveats in the documentation: https://pandas.pydata.org/pandas-docs/stable/user_guide/indexing.html#returning-a-view-versus-a-copy\n",
            "  test['Predictions'] = true_predictions\n"
          ]
        }
      ]
    },
    {
      "cell_type": "code",
      "metadata": {
        "colab": {
          "base_uri": "https://localhost:8080/",
          "height": 503
        },
        "id": "xJ7sI5xh9Lb0",
        "outputId": "89a9ea20-b67f-429f-b589-2e66572ce749"
      },
      "source": [
        "test.plot(figsize=(14,5))"
      ],
      "execution_count": 69,
      "outputs": [
        {
          "output_type": "execute_result",
          "data": {
            "text/plain": [
              "<Axes: xlabel='Date'>"
            ]
          },
          "metadata": {},
          "execution_count": 69
        },
        {
          "output_type": "display_data",
          "data": {
            "text/plain": [
              "<Figure size 1400x500 with 1 Axes>"
            ],
            "image/png": "[encoded data removed]"
          },
          "metadata": {}
        }
      ]
    },
    {
      "cell_type": "code",
      "metadata": {
        "colab": {
          "base_uri": "https://localhost:8080/"
        },
        "id": "OCsYjzge9OVe",
        "outputId": "162a80b2-3330-4401-efb0-131cd87e06cd"
      },
      "source": [
        "from sklearn.metrics import mean_squared_error\n",
        "from math import sqrt\n",
        "rmse=sqrt(mean_squared_error(test['Kilometers'],test['Predictions']))\n",
        "print(rmse)"
      ],
      "execution_count": 70,
      "outputs": [
        {
          "output_type": "stream",
          "name": "stdout",
          "text": [
            "1.8835938338001048\n"
          ]
        }
      ]
    }
  ]
}